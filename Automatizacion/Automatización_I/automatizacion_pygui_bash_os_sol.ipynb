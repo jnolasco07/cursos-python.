{
 "cells": [
  {
   "cell_type": "markdown",
   "metadata": {},
   "source": [
    "<div align=\"center\"><a href=\"https://colab.research.google.com/github/institutohumai/cursos-python/blob/master/Automatizacion/automatizacion_pygui_bash_os_sol.ipynb\"> <img src='https://colab.research.google.com/assets/colab-badge.svg'/> </a> <br> Recordá abrir en una nueva pestaña </div>"
   ]
  },
  {
   "cell_type": "markdown",
   "metadata": {
    "id": "PfYnJ59siNQH"
   },
   "source": [
    "## Automatización:\n",
    "\n",
    "En esta clase:\n",
    "\n",
    "- Aprenderemos sobre programar desde una carpeta, o **directorio de trabajo**, y las una rutas o _path_ relativos, o absolutos.\n",
    "- Veremos como buscar archivos, también listar, borrar, copiar, mover y otras operaciones usuales con el sistema operativo. Librerías os, glob, shutil\n",
    "- Lectura de distintos tipos de datos: .sav, .dta, .csv, .zip"
   ]
  },
  {
   "cell_type": "markdown",
   "metadata": {
    "id": "_NB3x7ZciNQJ"
   },
   "source": [
    "Actualmente cualquier tarea que uno se proponga automatizar, así lo es. Podemos encontrar un espectro de complejidad:\n",
    "\n",
    "- Por un lado, con la librería *pyautogui* podemos automatizar movimientos de mouse y teclado. Esto da la posibilidad de automatizar tareas sencillas de una manera directa.\n",
    "\n",
    "(El siguiente ejemplo anda solo corriendolo como local!)"
   ]
  },
  {
   "cell_type": "markdown",
   "metadata": {
    "id": "YkgI3cPoiNQW"
   },
   "source": [
    "```python\n",
    "# Devuelve las dimensiones de la pantalla\n",
    "ancho, alto = pyautogui.size()\n",
    "# Devuelve la posición actual\n",
    "Xactual, Yactual = pyautogui.position()\n",
    "# Mover a coordenadas (pixels)\n",
    "pyautogui.moveTo(100, 150) \n",
    "# Clickear\n",
    "pyautogui.click() \n",
    "# Tipear con delay\n",
    "pyautogui.write('Hello world!', interval=0.25)  \n",
    "# Apretar una tecla\n",
    "pyautogui.press('esc') \n",
    "pyautogui.hotkey('ctrl', 'c')\n",
    "pyautogui.locateOnScreen()\n",
    "```"
   ]
  },
  {
   "cell_type": "markdown",
   "metadata": {},
   "source": [
    "***Nota: Para ejecutar esta sección instalar Anaconda en la computadora local. También el ejemplo de abrir paint funciona sólo en Windows. Esta es la única ocasión de todos nuestros cursos en la que un ejemplo no funcionará en colab y en todos los sistemas operativos.***"
   ]
  },
  {
   "cell_type": "code",
   "execution_count": 6,
   "metadata": {},
   "outputs": [
    {
     "name": "stdout",
     "output_type": "stream",
     "text": [
      "Requirement already satisfied: pyautogui in c:\\programdata\\anaconda3\\lib\\site-packages (0.9.52)\n",
      "Requirement already satisfied: pygetwindow>=0.0.5 in c:\\programdata\\anaconda3\\lib\\site-packages (from pyautogui) (0.0.9)\n",
      "Requirement already satisfied: pymsgbox in c:\\programdata\\anaconda3\\lib\\site-packages (from pyautogui) (1.0.9)\n",
      "Requirement already satisfied: pyscreeze>=0.1.21 in c:\\programdata\\anaconda3\\lib\\site-packages (from pyautogui) (0.1.27)\n",
      "Requirement already satisfied: PyTweening>=1.0.1 in c:\\programdata\\anaconda3\\lib\\site-packages (from pyautogui) (1.0.3)\n",
      "Requirement already satisfied: mouseinfo in c:\\programdata\\anaconda3\\lib\\site-packages (from pyautogui) (0.1.3)\n",
      "Requirement already satisfied: pyrect in c:\\programdata\\anaconda3\\lib\\site-packages (from pygetwindow>=0.0.5->pyautogui) (0.1.4)\n",
      "Requirement already satisfied: Pillow>=6.2.1; python_version == \"3.8\" in c:\\programdata\\anaconda3\\lib\\site-packages (from pyscreeze>=0.1.21->pyautogui) (8.0.1)\n",
      "Requirement already satisfied: pyperclip in c:\\programdata\\anaconda3\\lib\\site-packages (from mouseinfo->pyautogui) (1.8.2)\n"
     ]
    }
   ],
   "source": [
    "!pip install pyautogui"
   ]
  },
  {
   "cell_type": "code",
   "execution_count": 1,
   "metadata": {},
   "outputs": [],
   "source": [
    "from time import sleep\n",
    "import os\n",
    "import pyautogui as pygui\n",
    "import numpy as np"
   ]
  },
  {
   "cell_type": "code",
   "execution_count": 2,
   "metadata": {},
   "outputs": [],
   "source": [
    "def cuadrado(l):\n",
    "    pygui.drag(l, 0, duration=1)\n",
    "    pygui.drag(0, l, duration=1)\n",
    "    pygui.drag(-l, 0, duration=1)\n",
    "    pygui.drag(0, -l, duration=1)"
   ]
  },
  {
   "cell_type": "code",
   "execution_count": 3,
   "metadata": {},
   "outputs": [],
   "source": [
    "cuadrado(200)"
   ]
  },
  {
   "cell_type": "code",
   "execution_count": 13,
   "metadata": {
    "id": "Lmd0MasDPuTO"
   },
   "outputs": [],
   "source": [
    "url = r'https://www.lanacion.com.ar/'"
   ]
  },
  {
   "cell_type": "code",
   "execution_count": 14,
   "metadata": {
    "id": "f0-dsF7LPuTa"
   },
   "outputs": [],
   "source": [
    "sleep(2)\n",
    "pygui.hotkey('ctrl', 't')\n",
    "sleep(2)\n",
    "pygui.write(url)\n",
    "sleep(2)\n",
    "pygui.press('enter')"
   ]
  },
  {
   "cell_type": "code",
   "execution_count": 11,
   "metadata": {},
   "outputs": [],
   "source": [
    "def abrir_paint():\n",
    "    # Windows\n",
    "    os.system('start mspaint.exe')\n",
    "    sleep(1)\n",
    "    S = pygui.size()\n",
    "    pygui.moveTo(S[0]//2, S[1]//2)"
   ]
  },
  {
   "cell_type": "code",
   "execution_count": 10,
   "metadata": {},
   "outputs": [],
   "source": [
    "def cuadrado_espiral(l, ratio=0.9):\n",
    "    pygui.move(-l//2, -l//2, duration=0.1)\n",
    "    for i in range(50):\n",
    "        l = l*ratio\n",
    "        pygui.drag(l, 0, duration=0.1)\n",
    "        l = l*ratio\n",
    "        pygui.drag(0, l, duration=0.1)\n",
    "        l = l*ratio\n",
    "        pygui.drag(-l, 0, duration=0.1)\n",
    "        l = l*ratio\n",
    "        pygui.drag(0, -l, duration=0.1)\n",
    "        if l < 5:\n",
    "            break"
   ]
  },
  {
   "cell_type": "code",
   "execution_count": 12,
   "metadata": {},
   "outputs": [],
   "source": [
    "sleep(2)\n",
    "abrir_paint()\n",
    "cuadrado_espiral(600)"
   ]
  },
  {
   "cell_type": "markdown",
   "metadata": {
    "id": "982Hn1rzk-dc"
   },
   "source": [
    "Ocasionalmente hay algunos casos de uso, pero encontramos obstáculos:\n",
    "\n",
    "- Frágil ante cambios\n",
    "- Método bruto, ad hoc\n",
    "- Solo tareas sencillas\n",
    "\n",
    "Encontraremos el mismo dilema más adelante en _web scraping_, en un extremo el consumo de APIs y en otro la automatización del navegador."
   ]
  },
  {
   "cell_type": "markdown",
   "metadata": {},
   "source": [
    "## Bash y OS"
   ]
  },
  {
   "cell_type": "markdown",
   "metadata": {
    "id": "SF_oDqKmiNQu"
   },
   "source": [
    "### Interactuando con el Sistema Operativo"
   ]
  },
  {
   "cell_type": "code",
   "execution_count": 4,
   "metadata": {
    "colab": {
     "base_uri": "https://localhost:8080/",
     "height": 34
    },
    "executionInfo": {
     "elapsed": 1213,
     "status": "ok",
     "timestamp": 1599253791131,
     "user": {
      "displayName": "Matías Grinberg",
      "photoUrl": "",
      "userId": "14116156229443883163"
     },
     "user_tz": 180
    },
    "id": "ouZ6t1KNkiBD",
    "outputId": "8eb1cec9-b75a-486e-f125-a9db042029a0"
   },
   "outputs": [
    {
     "name": "stdout",
     "output_type": "stream",
     "text": [
      "/home/cerebrock/MyStuff/cursos-python/Automatizacion\n"
     ]
    }
   ],
   "source": [
    "# Con ! enviamos un comando a la terminal del sistema operativo\n",
    "!pwd"
   ]
  },
  {
   "cell_type": "code",
   "execution_count": 5,
   "metadata": {},
   "outputs": [
    {
     "name": "stdout",
     "output_type": "stream",
     "text": [
      " automatizacion_pygui_bash_os.ipynb\t  Neuro\n",
      " automatizacion_pygui_bash_os_sol.ipynb   papers\n",
      " Deep\t\t\t\t\t  papers.zip\n",
      " expresiones_regulares.ipynb\t\t 'PDFs git.ipynb'\n",
      " expresiones_regulares_sol.ipynb\t  pdfs.ipynb\n",
      " gsheets_pytrends.ipynb\t\t\t 'Schedule process.ipynb'\n"
     ]
    }
   ],
   "source": [
    "!ls"
   ]
  },
  {
   "cell_type": "markdown",
   "metadata": {
    "id": "04nubFEM8bUq"
   },
   "source": [
    "Algunos comandos a saber:\n",
    "\n",
    "- pwd : \"print working directory\"\n",
    "- ls: listar directorio actual\n",
    "- wget: para descargar archivos "
   ]
  },
  {
   "cell_type": "code",
   "execution_count": 1,
   "metadata": {
    "colab": {
     "base_uri": "https://localhost:8080/",
     "height": 437
    },
    "executionInfo": {
     "elapsed": 10325,
     "status": "ok",
     "timestamp": 1599253801378,
     "user": {
      "displayName": "Matías Grinberg",
      "photoUrl": "",
      "userId": "14116156229443883163"
     },
     "user_tz": 180
    },
    "id": "0wV9rYPck9BM",
    "outputId": "381ae8a2-5341-4a48-d244-1a197bba972a"
   },
   "outputs": [
    {
     "name": "stdout",
     "output_type": "stream",
     "text": [
      "--2022-03-23 20:24:21--  https://unket.s3.sa-east-1.amazonaws.com/data/Expo_2018.zip\n",
      "Resolving unket.s3.sa-east-1.amazonaws.com (unket.s3.sa-east-1.amazonaws.com)... 52.95.165.71\n",
      "Connecting to unket.s3.sa-east-1.amazonaws.com (unket.s3.sa-east-1.amazonaws.com)|52.95.165.71|:443... connected.\n",
      "HTTP request sent, awaiting response... 200 OK\n",
      "Length: 55477868 (53M) [application/zip]\n",
      "Saving to: ‘Expo_2018.zip’\n",
      "\n",
      "Expo_2018.zip       100%[===================>]  52,91M  3,84MB/s    in 15s     \n",
      "\n",
      "2022-03-23 20:24:37 (3,47 MB/s) - ‘Expo_2018.zip’ saved [55477868/55477868]\n",
      "\n"
     ]
    }
   ],
   "source": [
    "# http://microdatos.dane.gov.co/index.php/catalog/472/get_microdata\n",
    "!wget -O Expo_2018.zip https://unket.s3.sa-east-1.amazonaws.com/data/Expo_2018.zip"
   ]
  },
  {
   "cell_type": "code",
   "execution_count": 2,
   "metadata": {},
   "outputs": [
    {
     "name": "stdout",
     "output_type": "stream",
     "text": [
      "/home/cerebrock/MyStuff/cursos-python/Automatizacion/Automatización_I\n"
     ]
    }
   ],
   "source": [
    "!pwd"
   ]
  },
  {
   "cell_type": "code",
   "execution_count": 3,
   "metadata": {},
   "outputs": [
    {
     "data": {
      "text/plain": [
       "'/home/cerebrock/MyStuff/cursos-python/Automatizacion/Automatización_I'"
      ]
     },
     "execution_count": 3,
     "metadata": {},
     "output_type": "execute_result"
    }
   ],
   "source": [
    "carpeta_actual = os.getcwd()\n",
    "carpeta_actual"
   ]
  },
  {
   "cell_type": "code",
   "execution_count": 4,
   "metadata": {},
   "outputs": [
    {
     "data": {
      "text/plain": [
       "'/home/cerebrock/MyStuff/cursos-python/Automatizacion/Automatización_I'"
      ]
     },
     "execution_count": 4,
     "metadata": {},
     "output_type": "execute_result"
    }
   ],
   "source": [
    "carpeta_actual.split('\\\\')[-1]"
   ]
  },
  {
   "cell_type": "markdown",
   "metadata": {
    "id": "MVMfYhz0einz"
   },
   "source": [
    "Librería OS"
   ]
  },
  {
   "cell_type": "code",
   "execution_count": 5,
   "metadata": {
    "id": "DgSEaZW9iNQv"
   },
   "outputs": [],
   "source": [
    "import os"
   ]
  },
  {
   "cell_type": "markdown",
   "metadata": {
    "id": "6If5x0JViNQ3"
   },
   "source": [
    "```python\n",
    "#Devuelve el \"current working directory\", o directorio actual de trabajo\n",
    "os.getcwd() \n",
    "\n",
    "#Es por \"change directory\", o sea cambiar el directorio actual de trabajo\n",
    "os.chdir(path)\n",
    "\n",
    "#recorre recursivamente el árbol de directorios, empezando por el path. \n",
    "#en cada iteracion devuelve carpeta, [subcarpetas], [archivos]\n",
    "os.walk(path)\n",
    "\n",
    "#crea un directorio\n",
    "os.makedirs(path)\n",
    "\n",
    "#chequea si existe un path\n",
    "os.path.exists(path)\n",
    "\n",
    "#borra un archivo o carpeta vacia\n",
    "os.remove(path)\n",
    "\n",
    "#enumera el contenido del path\n",
    "os.listdir(path)\n",
    "\n",
    "#permite cambiar paths, nombres y extensiones\n",
    "os.rename(path, new_path)\n",
    "\n",
    "# Devuelve la ruta absoluta de una ruta relativa\n",
    "os.path.abspath(path)\n",
    "\n",
    "```"
   ]
  },
  {
   "cell_type": "markdown",
   "metadata": {
    "id": "FZe5B5JbiNQ_"
   },
   "source": [
    "Cuatro maneras de listar la carpeta actual"
   ]
  },
  {
   "cell_type": "code",
   "execution_count": 17,
   "metadata": {
    "colab": {
     "base_uri": "https://localhost:8080/",
     "height": 34
    },
    "executionInfo": {
     "elapsed": 8846,
     "status": "ok",
     "timestamp": 1599253801380,
     "user": {
      "displayName": "Matías Grinberg",
      "photoUrl": "",
      "userId": "14116156229443883163"
     },
     "user_tz": 180
    },
    "id": "gGLB3_b4iNRA",
    "outputId": "76fcf49d-d450-4d3b-dc55-e9e1daa91f72"
   },
   "outputs": [
    {
     "name": "stdout",
     "output_type": "stream",
     "text": [
      "automatizacion_pygui_bash_os.ipynb\texpresiones_regulares_sol.ipynb\n",
      "automatizacion_pygui_bash_os_sol.ipynb\tgsheets_pytrends.ipynb\n",
      "expresiones_regulares.ipynb\t\totros\n"
     ]
    }
   ],
   "source": [
    "# Con la terminal\n",
    "!ls"
   ]
  },
  {
   "cell_type": "code",
   "execution_count": 18,
   "metadata": {
    "colab": {
     "base_uri": "https://localhost:8080/",
     "height": 34
    },
    "executionInfo": {
     "elapsed": 8170,
     "status": "ok",
     "timestamp": 1599253801816,
     "user": {
      "displayName": "Matías Grinberg",
      "photoUrl": "",
      "userId": "14116156229443883163"
     },
     "user_tz": 180
    },
    "id": "yNFrArZkiNRH",
    "outputId": "45c89045-695d-4455-c839-0278b4e77fc5"
   },
   "outputs": [
    {
     "name": "stdout",
     "output_type": "stream",
     "text": [
      "automatizacion_pygui_bash_os.ipynb\texpresiones_regulares_sol.ipynb\n",
      "automatizacion_pygui_bash_os_sol.ipynb\tgsheets_pytrends.ipynb\n",
      "expresiones_regulares.ipynb\t\totros\n"
     ]
    }
   ],
   "source": [
    "!dir"
   ]
  },
  {
   "cell_type": "code",
   "execution_count": 19,
   "metadata": {
    "colab": {
     "base_uri": "https://localhost:8080/",
     "height": 34
    },
    "executionInfo": {
     "elapsed": 8024,
     "status": "ok",
     "timestamp": 1599253801817,
     "user": {
      "displayName": "Matías Grinberg",
      "photoUrl": "",
      "userId": "14116156229443883163"
     },
     "user_tz": 180
    },
    "id": "xjTVNxv3iNRL",
    "outputId": "20e2f944-d3d2-439b-dafb-dd72bd6a3657"
   },
   "outputs": [
    {
     "data": {
      "text/plain": [
       "['otros',\n",
       " 'automatizacion_pygui_bash_os.ipynb',\n",
       " 'expresiones_regulares.ipynb',\n",
       " 'gsheets_pytrends.ipynb',\n",
       " 'expresiones_regulares_sol.ipynb',\n",
       " '.ipynb_checkpoints',\n",
       " 'automatizacion_pygui_bash_os_sol.ipynb']"
      ]
     },
     "execution_count": 19,
     "metadata": {},
     "output_type": "execute_result"
    }
   ],
   "source": [
    "# Con Python\n",
    "# ruta relativa\n",
    "\n",
    "os.listdir('.')"
   ]
  },
  {
   "cell_type": "code",
   "execution_count": 20,
   "metadata": {
    "colab": {
     "base_uri": "https://localhost:8080/",
     "height": 34
    },
    "executionInfo": {
     "elapsed": 7887,
     "status": "ok",
     "timestamp": 1599253801819,
     "user": {
      "displayName": "Matías Grinberg",
      "photoUrl": "",
      "userId": "14116156229443883163"
     },
     "user_tz": 180
    },
    "id": "-EvSs838iNRP",
    "outputId": "f7c085e8-a14d-4628-cf40-cf53a0ca1d82"
   },
   "outputs": [
    {
     "data": {
      "text/plain": [
       "['otros',\n",
       " 'automatizacion_pygui_bash_os.ipynb',\n",
       " 'expresiones_regulares.ipynb',\n",
       " 'gsheets_pytrends.ipynb',\n",
       " 'expresiones_regulares_sol.ipynb',\n",
       " '.ipynb_checkpoints',\n",
       " 'automatizacion_pygui_bash_os_sol.ipynb']"
      ]
     },
     "execution_count": 20,
     "metadata": {},
     "output_type": "execute_result"
    }
   ],
   "source": [
    "# Con Python\n",
    "# ruta absoluta\n",
    "\n",
    "os.listdir(os.getcwd())"
   ]
  },
  {
   "cell_type": "markdown",
   "metadata": {
    "id": "HWckOOvMiNRT"
   },
   "source": [
    "Tres maneras de ver el directorio actual de trabajo"
   ]
  },
  {
   "cell_type": "code",
   "execution_count": 21,
   "metadata": {
    "colab": {
     "base_uri": "https://localhost:8080/",
     "height": 35
    },
    "executionInfo": {
     "elapsed": 6598,
     "status": "ok",
     "timestamp": 1599253801821,
     "user": {
      "displayName": "Matías Grinberg",
      "photoUrl": "",
      "userId": "14116156229443883163"
     },
     "user_tz": 180
    },
    "id": "sA_EUomeiNRU",
    "outputId": "ee364cbf-dfb0-4a42-89f2-8d9018949159"
   },
   "outputs": [
    {
     "data": {
      "text/plain": [
       "'/home/cerebrock/MyStuff/cursos-python/Automatizacion'"
      ]
     },
     "execution_count": 21,
     "metadata": {},
     "output_type": "execute_result"
    }
   ],
   "source": [
    "os.getcwd()"
   ]
  },
  {
   "cell_type": "code",
   "execution_count": 22,
   "metadata": {
    "colab": {
     "base_uri": "https://localhost:8080/",
     "height": 34
    },
    "executionInfo": {
     "elapsed": 6479,
     "status": "ok",
     "timestamp": 1599253801822,
     "user": {
      "displayName": "Matías Grinberg",
      "photoUrl": "",
      "userId": "14116156229443883163"
     },
     "user_tz": 180
    },
    "id": "yw9af6sdiNRX",
    "outputId": "97e5d068-218e-4dd8-c244-7453881ad3a5"
   },
   "outputs": [
    {
     "name": "stdout",
     "output_type": "stream",
     "text": [
      "/home/cerebrock/MyStuff/cursos-python/Automatizacion\n"
     ]
    }
   ],
   "source": [
    "!pwd"
   ]
  },
  {
   "cell_type": "code",
   "execution_count": 23,
   "metadata": {
    "colab": {
     "base_uri": "https://localhost:8080/",
     "height": 35
    },
    "executionInfo": {
     "elapsed": 6323,
     "status": "ok",
     "timestamp": 1599253801823,
     "user": {
      "displayName": "Matías Grinberg",
      "photoUrl": "",
      "userId": "14116156229443883163"
     },
     "user_tz": 180
    },
    "id": "5rUz-4q-iNRa",
    "outputId": "0e269e3e-46a2-4783-a5ed-d767c40ebf7a"
   },
   "outputs": [
    {
     "data": {
      "text/plain": [
       "'/home/cerebrock/MyStuff/cursos-python/Automatizacion'"
      ]
     },
     "execution_count": 23,
     "metadata": {},
     "output_type": "execute_result"
    }
   ],
   "source": [
    "os.path.abspath('.')"
   ]
  },
  {
   "cell_type": "markdown",
   "metadata": {},
   "source": [
    "Ejercicio\n",
    "\n",
    "Crear una carpeta nueva con la función ```os.makedirs()```. Recibe simplemente la ruta a la carpeta a crear"
   ]
  },
  {
   "cell_type": "code",
   "execution_count": 24,
   "metadata": {},
   "outputs": [],
   "source": [
    "new_dir = 'nueva_carpeta'\n",
    "\n",
    "os.makedirs(new_dir)"
   ]
  },
  {
   "cell_type": "markdown",
   "metadata": {
    "id": "_cXrtpQ5oa5I"
   },
   "source": [
    "Ejercicio:\n",
    "\n",
    "Cambiar el directorio de trabajo a 'nueva_carpeta' usando os.chdir"
   ]
  },
  {
   "cell_type": "code",
   "execution_count": 25,
   "metadata": {
    "id": "--4h2n1VoYyl"
   },
   "outputs": [],
   "source": [
    "os.chdir(new_dir)"
   ]
  },
  {
   "cell_type": "code",
   "execution_count": 6,
   "metadata": {},
   "outputs": [],
   "source": [
    "import zipfile\n",
    "\n",
    "# Extraemos en la nueva carpeta\n",
    "with zipfile.ZipFile('./Expo_2018.zip', \"r\") as zip_ref:\n",
    "    zip_ref.extractall('.')   "
   ]
  },
  {
   "cell_type": "markdown",
   "metadata": {
    "id": "HkD4xDJniNRd"
   },
   "source": [
    "Buscamos todos los .zip"
   ]
  },
  {
   "cell_type": "code",
   "execution_count": 7,
   "metadata": {
    "colab": {
     "base_uri": "https://localhost:8080/",
     "height": 218
    },
    "executionInfo": {
     "elapsed": 1288,
     "status": "ok",
     "timestamp": 1599253846736,
     "user": {
      "displayName": "Matías Grinberg",
      "photoUrl": "",
      "userId": "14116156229443883163"
     },
     "user_tz": 180
    },
    "id": "gEju4QJiiNRe",
    "outputId": "f4348fc1-077e-4d92-93d0-affedc8fb06e"
   },
   "outputs": [
    {
     "name": "stdout",
     "output_type": "stream",
     "text": [
      "Junio2018.zip\n",
      "Agosto2018.zip\n",
      "Octubre2018.zip\n",
      "Mayo2018.zip\n",
      "Febrero2018.zip\n",
      "Diciembre2018.zip\n",
      "Julio2018.zip\n",
      "Enero2018.zip\n",
      "Noviembre2018.zip\n",
      "Marzo2018.zip\n",
      "Septiembre2018.zip\n",
      "Abril2018.zip\n"
     ]
    }
   ],
   "source": [
    "for elemento in os.listdir('./Expo_2018/'):  \n",
    "    if elemento[-4:] == '.zip':\n",
    "        print(elemento)"
   ]
  },
  {
   "cell_type": "markdown",
   "metadata": {
    "id": "0Rohql9J9VQq"
   },
   "source": [
    "Ahora usando glob"
   ]
  },
  {
   "cell_type": "code",
   "execution_count": 8,
   "metadata": {
    "id": "Eo1vXlkZqCeR"
   },
   "outputs": [],
   "source": [
    "from glob import glob"
   ]
  },
  {
   "cell_type": "code",
   "execution_count": 9,
   "metadata": {},
   "outputs": [],
   "source": [
    "# ruta con todos los archivos\n",
    "datos_path = './Expo_2018/' "
   ]
  },
  {
   "cell_type": "code",
   "execution_count": 10,
   "metadata": {
    "colab": {
     "base_uri": "https://localhost:8080/",
     "height": 218
    },
    "executionInfo": {
     "elapsed": 648,
     "status": "ok",
     "timestamp": 1599253961499,
     "user": {
      "displayName": "Matías Grinberg",
      "photoUrl": "",
      "userId": "14116156229443883163"
     },
     "user_tz": 180
    },
    "id": "UYZgIb2piNRh",
    "outputId": "44dbc555-c0cf-47ce-84a3-60019d1918be"
   },
   "outputs": [
    {
     "data": {
      "text/plain": [
       "['./Expo_2018/Junio2018.zip',\n",
       " './Expo_2018/Agosto2018.zip',\n",
       " './Expo_2018/Octubre2018.zip',\n",
       " './Expo_2018/Mayo2018.zip',\n",
       " './Expo_2018/Febrero2018.zip',\n",
       " './Expo_2018/Diciembre2018.zip',\n",
       " './Expo_2018/Julio2018.zip',\n",
       " './Expo_2018/Enero2018.zip',\n",
       " './Expo_2018/Noviembre2018.zip',\n",
       " './Expo_2018/Marzo2018.zip',\n",
       " './Expo_2018/Septiembre2018.zip',\n",
       " './Expo_2018/Abril2018.zip']"
      ]
     },
     "execution_count": 10,
     "metadata": {},
     "output_type": "execute_result"
    }
   ],
   "source": [
    "zip_files = glob(datos_path + '/*.zip')\n",
    "zip_files"
   ]
  },
  {
   "cell_type": "markdown",
   "metadata": {
    "id": "e0Qq8sfCWTX1"
   },
   "source": [
    "Hacemos un búcle para recorrer los archivos .zip y descomprimirlos en carpetas correspondientes"
   ]
  },
  {
   "cell_type": "code",
   "execution_count": 11,
   "metadata": {
    "colab": {
     "base_uri": "https://localhost:8080/",
     "height": 218
    },
    "executionInfo": {
     "elapsed": 2596,
     "status": "ok",
     "timestamp": 1599253965826,
     "user": {
      "displayName": "Matías Grinberg",
      "photoUrl": "",
      "userId": "14116156229443883163"
     },
     "user_tz": 180
    },
    "id": "5blLmM2HiNRk",
    "outputId": "b5a4bd68-f0e7-4b1e-f740-51d265170ba6"
   },
   "outputs": [
    {
     "name": "stdout",
     "output_type": "stream",
     "text": [
      "./Expo_2018/Junio2018\n",
      "./Expo_2018/Agosto2018\n",
      "./Expo_2018/Octubre2018\n",
      "./Expo_2018/Mayo2018\n",
      "./Expo_2018/Febrero2018\n",
      "./Expo_2018/Diciembre2018\n",
      "./Expo_2018/Julio2018\n",
      "./Expo_2018/Enero2018\n",
      "./Expo_2018/Noviembre2018\n",
      "./Expo_2018/Marzo2018\n",
      "./Expo_2018/Septiembre2018\n",
      "./Expo_2018/Abril2018\n"
     ]
    }
   ],
   "source": [
    "import zipfile\n",
    "\n",
    "# Recorremos la lista de zips\n",
    "for f in zip_files:\n",
    "\n",
    "    # Definimos el nombre de la nueva carpeta en una variable\n",
    "    # Es la misma ruta \"f\" pero sin el \".zip\"\n",
    "\n",
    "    new_dir = f.replace('.zip', '')\n",
    "    print(new_dir)\n",
    "\n",
    "    # Extraemos en la nueva carpeta\n",
    "    with zipfile.ZipFile(f, \"r\") as zip_ref:\n",
    "        zip_ref.extractall(new_dir)"
   ]
  },
  {
   "cell_type": "code",
   "execution_count": 13,
   "metadata": {
    "colab": {
     "base_uri": "https://localhost:8080/",
     "height": 420
    },
    "executionInfo": {
     "elapsed": 1173,
     "status": "ok",
     "timestamp": 1599253983213,
     "user": {
      "displayName": "Matías Grinberg",
      "photoUrl": "",
      "userId": "14116156229443883163"
     },
     "user_tz": 180
    },
    "id": "4hvqYHIbo9oc",
    "outputId": "65e5f6a6-c5aa-4eb9-9384-de51a17cfb7a"
   },
   "outputs": [
    {
     "data": {
      "text/plain": [
       "['Agosto2018',\n",
       " 'Junio2018.zip',\n",
       " 'Agosto2018.zip',\n",
       " 'Julio2018',\n",
       " 'Octubre2018.zip',\n",
       " 'Mayo2018.zip',\n",
       " 'Junio2018',\n",
       " 'Febrero2018',\n",
       " 'Febrero2018.zip',\n",
       " 'Mayo2018',\n",
       " 'Abril2018',\n",
       " 'Diciembre2018.zip',\n",
       " 'Julio2018.zip',\n",
       " 'Enero2018.zip',\n",
       " 'Noviembre2018.zip',\n",
       " 'Marzo2018.zip',\n",
       " 'Marzo2018',\n",
       " 'Septiembre2018',\n",
       " 'Septiembre2018.zip',\n",
       " 'Diciembre2018',\n",
       " 'Abril2018.zip',\n",
       " 'Noviembre2018',\n",
       " 'Octubre2018',\n",
       " 'Enero2018']"
      ]
     },
     "execution_count": 13,
     "metadata": {},
     "output_type": "execute_result"
    }
   ],
   "source": [
    "# Vemos que ya estan los .zips, y carpetas correspondientes\n",
    "os.listdir('Expo_2018')"
   ]
  },
  {
   "cell_type": "markdown",
   "metadata": {
    "id": "HQJV7LDwiNRp"
   },
   "source": [
    "La estructura queda así:\n",
    "\n",
    "```\n",
    ".\n",
    "├── Expo_2018\n",
    "│   ├── Abril\n",
    "│   │   ├── Abril.csv\n",
    "│   │   ├── Abril.dta\n",
    "│   │   └── Abril.sav\n",
    "│   ├── Abril2021.zip\n",
    "\n",
    "...\n",
    "\n",
    "│   ├── Octubre\n",
    "│   │   ├── Octubre.csv\n",
    "│   │   ├── Octubre.dta\n",
    "│   │   └── Octubre.sav\n",
    "│   ├── Octubre2018.zip\n",
    "│   ├── Septiembre\n",
    "│   │   ├── Septiembre.csv\n",
    "│   │   ├── Septiembre.dta\n",
    "│   │   └── Septiembre.sav\n",
    "│   └── Septiembre2018.zip\n",
    "\n",
    "```"
   ]
  },
  {
   "cell_type": "code",
   "execution_count": 14,
   "metadata": {
    "colab": {
     "base_uri": "https://localhost:8080/",
     "height": 218
    },
    "executionInfo": {
     "elapsed": 925,
     "status": "ok",
     "timestamp": 1599254009657,
     "user": {
      "displayName": "Matías Grinberg",
      "photoUrl": "",
      "userId": "14116156229443883163"
     },
     "user_tz": 180
    },
    "id": "YTZWE8GpiNRq",
    "outputId": "f12cd676-f0f4-431d-a054-019cc2dff4b4"
   },
   "outputs": [],
   "source": [
    "# Buscamos los archivos del tipo que queremos usando glob\n",
    "# Podemos cambiar el tipo cambiando la siguiente variable\n",
    "\n",
    "# tipo = 'dta'\n",
    "# tipo = 'csv'\n",
    "tipo = 'sav'"
   ]
  },
  {
   "cell_type": "code",
   "execution_count": 16,
   "metadata": {
    "colab": {
     "base_uri": "https://localhost:8080/",
     "height": 218
    },
    "executionInfo": {
     "elapsed": 925,
     "status": "ok",
     "timestamp": 1599254009657,
     "user": {
      "displayName": "Matías Grinberg",
      "photoUrl": "",
      "userId": "14116156229443883163"
     },
     "user_tz": 180
    },
    "id": "YTZWE8GpiNRq",
    "outputId": "f12cd676-f0f4-431d-a054-019cc2dff4b4"
   },
   "outputs": [
    {
     "data": {
      "text/plain": [
       "['./Expo_2018/Agosto2018/Agosto.sav',\n",
       " './Expo_2018/Julio2018/Julio.sav',\n",
       " './Expo_2018/Junio2018/Junio.sav',\n",
       " './Expo_2018/Febrero2018/Febrero.sav',\n",
       " './Expo_2018/Mayo2018/Mayo.sav',\n",
       " './Expo_2018/Abril2018/Abril.sav',\n",
       " './Expo_2018/Marzo2018/Marzo.sav',\n",
       " './Expo_2018/Septiembre2018/Septiembre.sav',\n",
       " './Expo_2018/Diciembre2018/Diciembre.sav',\n",
       " './Expo_2018/Noviembre2018/Noviembre 2018.sav',\n",
       " './Expo_2018/Octubre2018/Octubre 2018.sav',\n",
       " './Expo_2018/Enero2018/Enero.sav']"
      ]
     },
     "execution_count": 16,
     "metadata": {},
     "output_type": "execute_result"
    }
   ],
   "source": [
    "datos = glob(f'{datos_path}/*/*{tipo}')\n",
    "datos"
   ]
  },
  {
   "cell_type": "code",
   "execution_count": 17,
   "metadata": {
    "id": "L8oJ93FBiNRs"
   },
   "outputs": [],
   "source": [
    "# Chequeamos si la carpeta ya existe, y si no creamos una carpeta para guardar todos archivos los de ese tipo \n",
    "\n",
    "if not os.path.exists(datos_path + '/' + tipo + '_2018'):\n",
    "    os.mkdir(datos_path + tipo + '_2018')"
   ]
  },
  {
   "cell_type": "code",
   "execution_count": 18,
   "metadata": {
    "id": "PTcSkRliiNRv"
   },
   "outputs": [],
   "source": [
    "# Movemos todos los que los archivos de ese tipo a la nueva carpeta\n",
    "# Podemos chequear si ya está en la carpeta con os.path.exists \n",
    "\n",
    "for d in datos:\n",
    "    # Definimos en una variable cuál va a ser la nueva ruta\n",
    "    new_path = datos_path + tipo + '_2018/' + d.replace('\\\\', '/').split('/')[-1]\n",
    "    if not os.path.exists(new_path):\n",
    "        os.rename(d, new_path)"
   ]
  },
  {
   "cell_type": "code",
   "execution_count": 19,
   "metadata": {
    "colab": {
     "base_uri": "https://localhost:8080/",
     "height": 67
    },
    "executionInfo": {
     "elapsed": 994,
     "status": "ok",
     "timestamp": 1599254057073,
     "user": {
      "displayName": "Matías Grinberg",
      "photoUrl": "",
      "userId": "14116156229443883163"
     },
     "user_tz": 180
    },
    "id": "KsA9YdhBp80Y",
    "outputId": "321d55e9-939b-4a99-d2dd-9a29929d6090"
   },
   "outputs": [
    {
     "name": "stdout",
     "output_type": "stream",
     "text": [
      " Abril.sav\t Enero.sav     Junio.sav  'Noviembre 2018.sav'\n",
      " Agosto.sav\t Febrero.sav   Marzo.sav  'Octubre 2018.sav'\n",
      " Diciembre.sav\t Julio.sav     Mayo.sav    Septiembre.sav\n"
     ]
    }
   ],
   "source": [
    "# Listamos los archivos dentro de la nueva carpeta\n",
    "\n",
    "!ls {datos_path}/{tipo}_2018"
   ]
  },
  {
   "cell_type": "markdown",
   "metadata": {
    "id": "tYtQI6RaiNR2"
   },
   "source": [
    "```\n",
    ".\n",
    "├── Expo_2018\n",
    "│   ├── Abril2018\n",
    "│   │   ├── Abril.csv\n",
    "│   │   └── Abril.dta\n",
    "│   ├── Abril2018.zip\n",
    "│   ├── Agosto2018\n",
    "│   │   ├── Agosto.csv\n",
    "\n",
    "...\n",
    "\n",
    "│   ├── Octubre2018\n",
    "│   │   ├── Octubre.csv\n",
    "│   │   └── Octubre.dta\n",
    "│   ├── Octubre2018.zip\n",
    "│   ├── sav_2018\n",
    "│   │   ├── Abril.sav\n",
    "│   │   ├── Agosto.sav\n",
    "│   │   ├── Diciembre.sav\n",
    "│   │   ├── Enero.sav\n",
    "│   │   ├── Febrero.sav\n",
    "│   │   ├── Julio.sav\n",
    "│   │   ├── Junio.sav\n",
    "│   │   ├── Marzo.sav\n",
    "│   │   ├── Mayo.sav\n",
    "│   │   ├── Noviembre.sav\n",
    "│   │   ├── Octubre.sav\n",
    "│   │   └── Septiembre.sav\n",
    "│   ├── Septiembre2018\n",
    "│   │   ├── Septiembre.csv\n",
    "│   │   └── Septiembre.dta\n",
    "│   └── Septiembre2018.zip\n",
    "```"
   ]
  },
  {
   "cell_type": "markdown",
   "metadata": {
    "id": "qaIyV9BPiNR2"
   },
   "source": [
    "En dos casos puede ser necesario recurrir a otra librería, _shutil_\n",
    "\n",
    "Estos casos son:\n",
    "\n",
    "- copyfile: para copiar archivos\n",
    "- rmtree: para borrar directorios\n",
    "\n",
    "```python\n",
    "from shutil import copyfile\n",
    "copyfile(src, dst)\n",
    "```\n",
    "\n",
    "Usaremos esta 2da función para limpiar los archivos que extrajimos y no necesitamos"
   ]
  },
  {
   "cell_type": "code",
   "execution_count": 20,
   "metadata": {
    "colab": {
     "base_uri": "https://localhost:8080/",
     "height": 225
    },
    "executionInfo": {
     "elapsed": 1040,
     "status": "ok",
     "timestamp": 1599254277625,
     "user": {
      "displayName": "Matías Grinberg",
      "photoUrl": "",
      "userId": "14116156229443883163"
     },
     "user_tz": 180
    },
    "id": "3UPCRzGIiNR3",
    "outputId": "fcd86e09-ae5b-4405-f827-6e5ce90920bc"
   },
   "outputs": [
    {
     "name": "stdout",
     "output_type": "stream",
     "text": [
      "Borrando... /home/cerebrock/MyStuff/cursos-python/Automatizacion/Automatización_I/Expo_2018/Junio2018\n",
      "Borrando... /home/cerebrock/MyStuff/cursos-python/Automatizacion/Automatización_I/Expo_2018/Agosto2018\n",
      "Borrando... /home/cerebrock/MyStuff/cursos-python/Automatizacion/Automatización_I/Expo_2018/Octubre2018\n",
      "Borrando... /home/cerebrock/MyStuff/cursos-python/Automatizacion/Automatización_I/Expo_2018/Mayo2018\n",
      "Borrando... /home/cerebrock/MyStuff/cursos-python/Automatizacion/Automatización_I/Expo_2018/Febrero2018\n",
      "Borrando... /home/cerebrock/MyStuff/cursos-python/Automatizacion/Automatización_I/Expo_2018/Diciembre2018\n",
      "Borrando... /home/cerebrock/MyStuff/cursos-python/Automatizacion/Automatización_I/Expo_2018/Julio2018\n",
      "Borrando... /home/cerebrock/MyStuff/cursos-python/Automatizacion/Automatización_I/Expo_2018/Enero2018\n",
      "Borrando... /home/cerebrock/MyStuff/cursos-python/Automatizacion/Automatización_I/Expo_2018/Noviembre2018\n",
      "Borrando... /home/cerebrock/MyStuff/cursos-python/Automatizacion/Automatización_I/Expo_2018/Marzo2018\n",
      "Borrando... /home/cerebrock/MyStuff/cursos-python/Automatizacion/Automatización_I/Expo_2018/Septiembre2018\n",
      "Borrando... /home/cerebrock/MyStuff/cursos-python/Automatizacion/Automatización_I/Expo_2018/Abril2018\n"
     ]
    }
   ],
   "source": [
    "import shutil\n",
    "\n",
    "for f in zip_files:\n",
    "    \n",
    "    # ¡CUIDADO!\n",
    "    # Estas funciones de borrar y renombrar son potencialmente peligrosas\n",
    "    # Antes de ejecutarlas con una ruta, pueden hacer un print para asegurarse de qué se haría\n",
    "    \n",
    "    # Borramos las carpetas de más, para eso\n",
    "    # buscamos la ruta absoluta del zip. \n",
    "    # Sabemos que carpeta donde se extrajo se llama igual pero sin .zip\n",
    "    zip_dir = os.path.abspath(f).split('.')[0]\n",
    "    print('Borrando...', zip_dir)\n",
    "\n",
    "    shutil.rmtree(zip_dir)\n",
    "\n",
    "    # Borramos también los .zip\n",
    "    os.remove(f)"
   ]
  },
  {
   "cell_type": "code",
   "execution_count": 21,
   "metadata": {
    "colab": {
     "base_uri": "https://localhost:8080/",
     "height": 35
    },
    "executionInfo": {
     "elapsed": 1297,
     "status": "ok",
     "timestamp": 1599254294810,
     "user": {
      "displayName": "Matías Grinberg",
      "photoUrl": "",
      "userId": "14116156229443883163"
     },
     "user_tz": 180
    },
    "id": "ot8inQ4rpWHA",
    "outputId": "75e831aa-86b3-4fe7-e37f-3bd0b366f685"
   },
   "outputs": [
    {
     "name": "stdout",
     "output_type": "stream",
     "text": [
      "sav_2018\n"
     ]
    }
   ],
   "source": [
    "# Nos queda solo la carpeta con todos los archivos del tipo elegido, ordenados\n",
    "\n",
    "!ls {datos_path}"
   ]
  },
  {
   "cell_type": "markdown",
   "metadata": {
    "id": "QylEEWr6_HEp"
   },
   "source": [
    "Cargamos los datos a un DataFrame"
   ]
  },
  {
   "cell_type": "code",
   "execution_count": 22,
   "metadata": {
    "colab": {
     "base_uri": "https://localhost:8080/",
     "height": 225
    },
    "executionInfo": {
     "elapsed": 649,
     "status": "ok",
     "timestamp": 1599254419185,
     "user": {
      "displayName": "Matías Grinberg",
      "photoUrl": "",
      "userId": "14116156229443883163"
     },
     "user_tz": 180
    },
    "id": "PjzSMfA_iNSE",
    "outputId": "5249385a-0e8e-44b6-e443-a00787629ca9"
   },
   "outputs": [
    {
     "data": {
      "text/plain": [
       "['./Expo_2018/sav_2018/Abril.sav',\n",
       " './Expo_2018/sav_2018/Junio.sav',\n",
       " './Expo_2018/sav_2018/Julio.sav',\n",
       " './Expo_2018/sav_2018/Mayo.sav',\n",
       " './Expo_2018/sav_2018/Noviembre 2018.sav',\n",
       " './Expo_2018/sav_2018/Septiembre.sav',\n",
       " './Expo_2018/sav_2018/Enero.sav',\n",
       " './Expo_2018/sav_2018/Octubre 2018.sav',\n",
       " './Expo_2018/sav_2018/Marzo.sav',\n",
       " './Expo_2018/sav_2018/Febrero.sav',\n",
       " './Expo_2018/sav_2018/Agosto.sav',\n",
       " './Expo_2018/sav_2018/Diciembre.sav']"
      ]
     },
     "execution_count": 22,
     "metadata": {},
     "output_type": "execute_result"
    }
   ],
   "source": [
    "from glob import glob\n",
    "\n",
    "rutas_datos = glob(datos_path + '/*/*' + tipo)\n",
    "rutas_datos"
   ]
  },
  {
   "cell_type": "markdown",
   "metadata": {
    "id": "JtF9Jpr7iNSJ"
   },
   "source": [
    "Leemos 3 tipos de datos:\n",
    "- Stata\n",
    "- SPSS\n",
    "- csv"
   ]
  },
  {
   "cell_type": "code",
   "execution_count": 23,
   "metadata": {},
   "outputs": [
    {
     "name": "stdout",
     "output_type": "stream",
     "text": [
      "Collecting pyreadstat\n",
      "  Downloading pyreadstat-1.1.4-cp38-cp38-manylinux_2_17_x86_64.manylinux2014_x86_64.whl (2.6 MB)\n",
      "\u001b[K     |████████████████████████████████| 2.6 MB 2.0 MB/s eta 0:00:01\n",
      "\u001b[?25hRequirement already satisfied: pandas>=1.2.0 in /home/cerebrock/anaconda3/lib/python3.8/site-packages (from pyreadstat) (1.2.4)\n",
      "Requirement already satisfied: python-dateutil>=2.7.3 in /home/cerebrock/anaconda3/lib/python3.8/site-packages (from pandas>=1.2.0->pyreadstat) (2.8.1)\n",
      "Requirement already satisfied: pytz>=2017.3 in /home/cerebrock/anaconda3/lib/python3.8/site-packages (from pandas>=1.2.0->pyreadstat) (2021.1)\n",
      "Requirement already satisfied: numpy>=1.16.5 in /home/cerebrock/anaconda3/lib/python3.8/site-packages (from pandas>=1.2.0->pyreadstat) (1.20.1)\n",
      "Requirement already satisfied: six>=1.5 in /home/cerebrock/anaconda3/lib/python3.8/site-packages (from python-dateutil>=2.7.3->pandas>=1.2.0->pyreadstat) (1.16.0)\n",
      "Installing collected packages: pyreadstat\n",
      "Successfully installed pyreadstat-1.1.4\n"
     ]
    }
   ],
   "source": [
    "# para stata o SPSS\n",
    "!pip install pyreadstat"
   ]
  },
  {
   "cell_type": "code",
   "execution_count": 24,
   "metadata": {
    "id": "VYkMS2KLiNSK"
   },
   "outputs": [],
   "source": [
    "import pandas as pd\n",
    "\n",
    "datos = []\n",
    "\n",
    "for r in rutas_datos:\n",
    "\n",
    "    if tipo == 'dta':\n",
    "        # En el caso de stata necesitamos instalar la siguiente librería\n",
    "        import pyreadstat\n",
    "\n",
    "        df, metadata = pyreadstat.read_dta(r)    \n",
    "\n",
    "    elif tipo == 'sav':\n",
    "        df = pd.read_spss(r)\n",
    "\n",
    "    elif tipo == 'csv':\n",
    "        df = pd.read_csv(r, delimiter = ';')\n",
    "\n",
    "    else:\n",
    "        print('Otro tipo!')\n",
    "\n",
    "    datos.append(df)\n",
    "\n",
    "dataframe_total = pd.concat(datos)\n",
    "dataframe_total.to_csv('todos.csv')"
   ]
  },
  {
   "cell_type": "code",
   "execution_count": 25,
   "metadata": {
    "colab": {
     "base_uri": "https://localhost:8080/",
     "height": 279
    },
    "executionInfo": {
     "elapsed": 1573,
     "status": "ok",
     "timestamp": 1599254472131,
     "user": {
      "displayName": "Matías Grinberg",
      "photoUrl": "",
      "userId": "14116156229443883163"
     },
     "user_tz": 180
    },
    "id": "rua4C1yniNSM",
    "outputId": "060f6327-0d5c-4976-dc68-3d8ac7cbd227"
   },
   "outputs": [
    {
     "data": {
      "text/html": [
       "<div>\n",
       "<style scoped>\n",
       "    .dataframe tbody tr th:only-of-type {\n",
       "        vertical-align: middle;\n",
       "    }\n",
       "\n",
       "    .dataframe tbody tr th {\n",
       "        vertical-align: top;\n",
       "    }\n",
       "\n",
       "    .dataframe thead th {\n",
       "        text-align: right;\n",
       "    }\n",
       "</style>\n",
       "<table border=\"1\" class=\"dataframe\">\n",
       "  <thead>\n",
       "    <tr style=\"text-align: right;\">\n",
       "      <th></th>\n",
       "      <th>FECH</th>\n",
       "      <th>ADUA</th>\n",
       "      <th>PAIS</th>\n",
       "      <th>COD_PAI4</th>\n",
       "      <th>COD_SAL1</th>\n",
       "      <th>COD_SAL</th>\n",
       "      <th>DPTO2</th>\n",
       "      <th>VIA</th>\n",
       "      <th>BANDERA</th>\n",
       "      <th>REGIM</th>\n",
       "      <th>...</th>\n",
       "      <th>PBK</th>\n",
       "      <th>PNK</th>\n",
       "      <th>FOBDOL</th>\n",
       "      <th>FOBPES</th>\n",
       "      <th>AGRENA</th>\n",
       "      <th>FLETES</th>\n",
       "      <th>SEGURO</th>\n",
       "      <th>OTROSG</th>\n",
       "      <th>NIT</th>\n",
       "      <th>RAZ_SIAL</th>\n",
       "    </tr>\n",
       "  </thead>\n",
       "  <tbody>\n",
       "    <tr>\n",
       "      <th>18472</th>\n",
       "      <td>1801.0</td>\n",
       "      <td>Buenaventura</td>\n",
       "      <td>611</td>\n",
       "      <td>PRI</td>\n",
       "      <td>35.0</td>\n",
       "      <td>BUENAVENTURA</td>\n",
       "      <td>VALLE DEL CAUCA</td>\n",
       "      <td>1.0</td>\n",
       "      <td>467.0</td>\n",
       "      <td>1.0</td>\n",
       "      <td>...</td>\n",
       "      <td>3681.87</td>\n",
       "      <td>3196.66</td>\n",
       "      <td>6094.68</td>\n",
       "      <td>17325163.97</td>\n",
       "      <td>5551.6</td>\n",
       "      <td>454.16</td>\n",
       "      <td>4.86</td>\n",
       "      <td>0.0</td>\n",
       "      <td>890301884</td>\n",
       "      <td>COLOMBINA S.A.</td>\n",
       "    </tr>\n",
       "    <tr>\n",
       "      <th>37122</th>\n",
       "      <td>1810.0</td>\n",
       "      <td>Cali</td>\n",
       "      <td>317</td>\n",
       "      <td>GTM</td>\n",
       "      <td>3.0</td>\n",
       "      <td>BOGOTA</td>\n",
       "      <td>VALLE DEL CAUCA</td>\n",
       "      <td>4.0</td>\n",
       "      <td>580.0</td>\n",
       "      <td>1.0</td>\n",
       "      <td>...</td>\n",
       "      <td>14.28</td>\n",
       "      <td>13.36</td>\n",
       "      <td>908.00</td>\n",
       "      <td>2823277.30</td>\n",
       "      <td>763.4</td>\n",
       "      <td>0.00</td>\n",
       "      <td>0.00</td>\n",
       "      <td>0.0</td>\n",
       "      <td>805003626</td>\n",
       "      <td>STF GROUP S.A.</td>\n",
       "    </tr>\n",
       "    <tr>\n",
       "      <th>13849</th>\n",
       "      <td>1801.0</td>\n",
       "      <td>Buenaventura</td>\n",
       "      <td>200</td>\n",
       "      <td>CUW</td>\n",
       "      <td>35.0</td>\n",
       "      <td>BUENAVENTURA</td>\n",
       "      <td>VALLE DEL CAUCA</td>\n",
       "      <td>1.0</td>\n",
       "      <td>434.0</td>\n",
       "      <td>1.0</td>\n",
       "      <td>...</td>\n",
       "      <td>8121.12</td>\n",
       "      <td>8061.50</td>\n",
       "      <td>25905.00</td>\n",
       "      <td>77300520.00</td>\n",
       "      <td>0.0</td>\n",
       "      <td>0.00</td>\n",
       "      <td>0.00</td>\n",
       "      <td>0.0</td>\n",
       "      <td>890300466</td>\n",
       "      <td>TECNOQUIMICAS S.A</td>\n",
       "    </tr>\n",
       "  </tbody>\n",
       "</table>\n",
       "<p>3 rows × 29 columns</p>\n",
       "</div>"
      ],
      "text/plain": [
       "         FECH          ADUA PAIS COD_PAI4  COD_SAL1       COD_SAL  \\\n",
       "18472  1801.0  Buenaventura  611      PRI      35.0  BUENAVENTURA   \n",
       "37122  1810.0          Cali  317      GTM       3.0        BOGOTA   \n",
       "13849  1801.0  Buenaventura  200      CUW      35.0  BUENAVENTURA   \n",
       "\n",
       "                 DPTO2  VIA  BANDERA  REGIM  ...      PBK      PNK    FOBDOL  \\\n",
       "18472  VALLE DEL CAUCA  1.0    467.0    1.0  ...  3681.87  3196.66   6094.68   \n",
       "37122  VALLE DEL CAUCA  4.0    580.0    1.0  ...    14.28    13.36    908.00   \n",
       "13849  VALLE DEL CAUCA  1.0    434.0    1.0  ...  8121.12  8061.50  25905.00   \n",
       "\n",
       "            FOBPES  AGRENA  FLETES  SEGURO OTROSG        NIT  \\\n",
       "18472  17325163.97  5551.6  454.16    4.86    0.0  890301884   \n",
       "37122   2823277.30   763.4    0.00    0.00    0.0  805003626   \n",
       "13849  77300520.00     0.0    0.00    0.00    0.0  890300466   \n",
       "\n",
       "                RAZ_SIAL  \n",
       "18472     COLOMBINA S.A.  \n",
       "37122     STF GROUP S.A.  \n",
       "13849  TECNOQUIMICAS S.A  \n",
       "\n",
       "[3 rows x 29 columns]"
      ]
     },
     "execution_count": 25,
     "metadata": {},
     "output_type": "execute_result"
    }
   ],
   "source": [
    "dataframe_total.sample(3)"
   ]
  },
  {
   "cell_type": "code",
   "execution_count": 26,
   "metadata": {
    "colab": {
     "base_uri": "https://localhost:8080/",
     "height": 294
    },
    "executionInfo": {
     "elapsed": 2201,
     "status": "ok",
     "timestamp": 1599254472774,
     "user": {
      "displayName": "Matías Grinberg",
      "photoUrl": "",
      "userId": "14116156229443883163"
     },
     "user_tz": 180
    },
    "id": "UYZ9tChwieV6",
    "outputId": "c184eac4-5c66-4d82-c457-14f243459e7d"
   },
   "outputs": [
    {
     "data": {
      "image/png": "[encoded data removed]",
      "text/plain": [
       "<Figure size 432x288 with 1 Axes>"
      ]
     },
     "metadata": {
      "needs_background": "light"
     },
     "output_type": "display_data"
    }
   ],
   "source": [
    "dataframe_total.groupby('COD_PAI4')\\\n",
    "  .count()['CANTI']   \\\n",
    "  .sort_values()      \\\n",
    "  .iloc[-10:]         \\\n",
    "  .plot.bar();"
   ]
  },
  {
   "cell_type": "markdown",
   "metadata": {
    "id": "_8uLDuyoa1co"
   },
   "source": [
    "# Práctica\n",
    "\n",
    "1) Tomar la siguiente lista de temas  \n",
    "2) Crear una carpeta con su nombre en \"title case\"  \n",
    "3) Dentro de cada carpeta, guardar los datos de tendencias para el día de hoy  "
   ]
  },
  {
   "cell_type": "code",
   "execution_count": 27,
   "metadata": {
    "colab": {
     "base_uri": "https://localhost:8080/",
     "height": 84
    },
    "executionInfo": {
     "elapsed": 952,
     "status": "ok",
     "timestamp": 1599851555513,
     "user": {
      "displayName": "Matías Grinberg",
      "photoUrl": "",
      "userId": "14116156229443883163"
     },
     "user_tz": 180
    },
    "id": "W2A8zPTP3tUh",
    "outputId": "f828d8cd-bb58-442b-e7f3-47ae8be996e8"
   },
   "outputs": [],
   "source": [
    "temas = ['Python', 'IA', 'Meditación', 'Jazz Rock', 'Sustentabilidad', 'Neurociencias']"
   ]
  },
  {
   "cell_type": "markdown",
   "metadata": {
    "id": "j5cS3apfAYVB"
   },
   "source": [
    "La siguiente celda prepara y define una función _get_trends_ para buscar tendencias de Google. La misma recibe una búsqueda y devuelve un diccionario con los datos de las tendencias."
   ]
  },
  {
   "cell_type": "code",
   "execution_count": 104,
   "metadata": {
    "colab": {
     "base_uri": "https://localhost:8080/",
     "height": 218
    },
    "executionInfo": {
     "elapsed": 4548,
     "status": "ok",
     "timestamp": 1599851570350,
     "user": {
      "displayName": "Matías Grinberg",
      "photoUrl": "",
      "userId": "14116156229443883163"
     },
     "user_tz": 180
    },
    "id": "LAiwUTATaBvu",
    "outputId": "80a13760-9e6c-46b7-a188-afed2d1407d4"
   },
   "outputs": [
    {
     "name": "stdout",
     "output_type": "stream",
     "text": [
      "Requirement already satisfied: pytrends in c:\\programdata\\anaconda3\\lib\\site-packages (4.7.3)\n",
      "Requirement already satisfied: requests in c:\\programdata\\anaconda3\\lib\\site-packages (from pytrends) (2.24.0)\n",
      "Requirement already satisfied: lxml in c:\\programdata\\anaconda3\\lib\\site-packages (from pytrends) (4.6.1)\n",
      "Requirement already satisfied: pandas>=0.25 in c:\\programdata\\anaconda3\\lib\\site-packages (from pytrends) (1.1.3)\n",
      "Requirement already satisfied: certifi>=2017.4.17 in c:\\programdata\\anaconda3\\lib\\site-packages (from requests->pytrends) (2020.6.20)\n",
      "Requirement already satisfied: urllib3!=1.25.0,!=1.25.1,<1.26,>=1.21.1 in c:\\programdata\\anaconda3\\lib\\site-packages (from requests->pytrends) (1.25.11)\n",
      "Requirement already satisfied: idna<3,>=2.5 in c:\\programdata\\anaconda3\\lib\\site-packages (from requests->pytrends) (2.10)\n",
      "Requirement already satisfied: chardet<4,>=3.0.2 in c:\\programdata\\anaconda3\\lib\\site-packages (from requests->pytrends) (3.0.4)\n",
      "Requirement already satisfied: numpy>=1.15.4 in c:\\programdata\\anaconda3\\lib\\site-packages (from pandas>=0.25->pytrends) (1.19.2)\n",
      "Requirement already satisfied: python-dateutil>=2.7.3 in c:\\programdata\\anaconda3\\lib\\site-packages (from pandas>=0.25->pytrends) (2.8.1)\n",
      "Requirement already satisfied: pytz>=2017.2 in c:\\programdata\\anaconda3\\lib\\site-packages (from pandas>=0.25->pytrends) (2020.1)\n",
      "Requirement already satisfied: six>=1.5 in c:\\programdata\\anaconda3\\lib\\site-packages (from python-dateutil>=2.7.3->pandas>=0.25->pytrends) (1.15.0)\n"
     ]
    }
   ],
   "source": [
    "!pip install pytrends\n",
    "\n",
    "import pandas as pd                       \n",
    "from pytrends.request import TrendReq\n",
    "\n",
    "def get_trends(query):\n",
    "    pytrend = TrendReq()\n",
    "    pytrend.build_payload(kw_list=[query])\n",
    "    df = pytrend.interest_by_region()\n",
    "    return df.sort_values(query, ascending=False)[query].to_dict()"
   ]
  },
  {
   "cell_type": "markdown",
   "metadata": {
    "id": "0hMmR3trAddM"
   },
   "source": [
    "Ahora sí, recorrer la lista de temas y:\n",
    "\n",
    "- Buscar las tendencias con la función get_trends\n",
    "- Si no existe ya la carpeta para ese tema, crearla\n",
    "- Crear un archivo .txt o .csv con los datos buscados dentro de esa carpeta"
   ]
  },
  {
   "cell_type": "code",
   "execution_count": 72,
   "metadata": {
    "id": "EyRBaiRsaPFd"
   },
   "outputs": [
    {
     "data": {
      "text/plain": [
       "{'China': 100,\n",
       " 'St. Helena': 13,\n",
       " 'Singapore': 10,\n",
       " 'South Korea': 9,\n",
       " 'Israel': 9,\n",
       " 'Hong Kong': 7,\n",
       " 'Taiwan': 6,\n",
       " 'Switzerland': 5,\n",
       " 'Norway': 5,\n",
       " 'United States': 5,\n",
       " 'India': 5,\n",
       " 'Sweden': 4,\n",
       " 'Czechia': 4,\n",
       " 'Ireland': 4,\n",
       " 'Netherlands': 4,\n",
       " 'Canada': 4,\n",
       " 'Slovenia': 4,\n",
       " 'Tunisia': 4,\n",
       " 'New Zealand': 4,\n",
       " 'Finland': 4,\n",
       " 'Denmark': 4,\n",
       " 'Australia': 4,\n",
       " 'United Kingdom': 4,\n",
       " 'Germany': 4,\n",
       " 'United Arab Emirates': 3,\n",
       " 'Russia': 3,\n",
       " 'Sri Lanka': 3,\n",
       " 'Japan': 3,\n",
       " 'Croatia': 3,\n",
       " 'Pakistan': 3,\n",
       " 'Kenya': 3,\n",
       " 'Portugal': 3,\n",
       " 'Austria': 3,\n",
       " 'Belgium': 3,\n",
       " 'Bangladesh': 3,\n",
       " 'France': 3,\n",
       " 'Slovakia': 2,\n",
       " 'Bulgaria': 2,\n",
       " 'Romania': 2,\n",
       " 'Serbia': 2,\n",
       " 'Hungary': 2,\n",
       " 'Belarus': 2,\n",
       " 'Kazakhstan': 2,\n",
       " 'Poland': 2,\n",
       " 'Colombia': 2,\n",
       " 'Philippines': 2,\n",
       " 'Spain': 2,\n",
       " 'Greece': 2,\n",
       " 'Chile': 2,\n",
       " 'Vietnam': 2,\n",
       " 'Morocco': 2,\n",
       " 'Ukraine': 2,\n",
       " 'South Africa': 2,\n",
       " 'Malaysia': 2,\n",
       " 'Nigeria': 2,\n",
       " 'Saudi Arabia': 1,\n",
       " 'Egypt': 1,\n",
       " 'Ecuador': 1,\n",
       " 'Iran': 1,\n",
       " 'Indonesia': 1,\n",
       " 'Peru': 1,\n",
       " 'Mexico': 1,\n",
       " 'Thailand': 1,\n",
       " 'Argentina': 1,\n",
       " 'Italy': 1,\n",
       " 'Brazil': 1,\n",
       " 'Turkey': 1,\n",
       " 'Namibia': 0,\n",
       " 'Myanmar (Burma)': 0,\n",
       " 'Mozambique': 0,\n",
       " 'Panama': 0,\n",
       " 'Nepal': 0,\n",
       " 'Montserrat': 0,\n",
       " 'Montenegro': 0,\n",
       " 'Pitcairn Islands': 0,\n",
       " 'Mongolia': 0,\n",
       " 'Monaco': 0,\n",
       " 'Moldova': 0,\n",
       " 'Nauru': 0,\n",
       " 'Nicaragua': 0,\n",
       " 'Paraguay': 0,\n",
       " 'New Caledonia': 0,\n",
       " 'Niger': 0,\n",
       " 'Niue': 0,\n",
       " 'Norfolk Island': 0,\n",
       " 'North Korea': 0,\n",
       " 'Papua New Guinea': 0,\n",
       " 'North Macedonia': 0,\n",
       " 'Northern Mariana Islands': 0,\n",
       " 'Puerto Rico': 0,\n",
       " 'Palau': 0,\n",
       " 'Palestine': 0,\n",
       " 'Oman': 0,\n",
       " 'Afghanistan': 0,\n",
       " 'Qatar': 0,\n",
       " 'Rwanda': 0,\n",
       " 'Timor-Leste': 0,\n",
       " 'Togo': 0,\n",
       " 'Tokelau': 0,\n",
       " 'Tonga': 0,\n",
       " 'Trinidad & Tobago': 0,\n",
       " 'Turkmenistan': 0,\n",
       " 'Turks & Caicos Islands': 0,\n",
       " 'Tuvalu': 0,\n",
       " 'U.S. Outlying Islands': 0,\n",
       " 'U.S. Virgin Islands': 0,\n",
       " 'Uganda': 0,\n",
       " 'Uruguay': 0,\n",
       " 'Uzbekistan': 0,\n",
       " 'Vanuatu': 0,\n",
       " 'Vatican City': 0,\n",
       " 'Venezuela': 0,\n",
       " 'Wallis & Futuna': 0,\n",
       " 'Western Sahara': 0,\n",
       " 'Yemen': 0,\n",
       " 'Zambia': 0,\n",
       " 'Zimbabwe': 0,\n",
       " 'Tanzania': 0,\n",
       " 'Tajikistan': 0,\n",
       " 'São Tomé & Príncipe': 0,\n",
       " 'South Georgia & South Sandwich Islands': 0,\n",
       " 'Réunion': 0,\n",
       " 'Samoa': 0,\n",
       " 'San Marino': 0,\n",
       " 'Senegal': 0,\n",
       " 'Seychelles': 0,\n",
       " 'Sierra Leone': 0,\n",
       " 'Sint Maarten': 0,\n",
       " 'Solomon Islands': 0,\n",
       " 'Micronesia': 0,\n",
       " 'South Sudan': 0,\n",
       " 'Syria': 0,\n",
       " 'St. Barthélemy': 0,\n",
       " 'St. Kitts & Nevis': 0,\n",
       " 'St. Lucia': 0,\n",
       " 'St. Martin': 0,\n",
       " 'St. Pierre & Miquelon': 0,\n",
       " 'St. Vincent & Grenadines': 0,\n",
       " 'Sudan': 0,\n",
       " 'Suriname': 0,\n",
       " 'Svalbard & Jan Mayen': 0,\n",
       " 'Somalia': 0,\n",
       " 'Libya': 0,\n",
       " 'Mayotte': 0,\n",
       " 'Burundi': 0,\n",
       " 'Cameroon': 0,\n",
       " 'Cape Verde': 0,\n",
       " 'Caribbean Netherlands': 0,\n",
       " 'Cayman Islands': 0,\n",
       " 'Central African Republic': 0,\n",
       " 'Chad': 0,\n",
       " 'Christmas Island': 0,\n",
       " 'Cocos (Keeling) Islands': 0,\n",
       " 'Comoros': 0,\n",
       " 'Congo - Brazzaville': 0,\n",
       " 'Congo - Kinshasa': 0,\n",
       " 'Cook Islands': 0,\n",
       " 'Costa Rica': 0,\n",
       " 'Cuba': 0,\n",
       " 'Curaçao': 0,\n",
       " 'Cyprus': 0,\n",
       " 'Côte d’Ivoire': 0,\n",
       " 'Djibouti': 0,\n",
       " 'Dominica': 0,\n",
       " 'Dominican Republic': 0,\n",
       " 'El Salvador': 0,\n",
       " 'Equatorial Guinea': 0,\n",
       " 'Eritrea': 0,\n",
       " 'Cambodia': 0,\n",
       " 'Burkina Faso': 0,\n",
       " 'Eswatini': 0,\n",
       " 'Brunei': 0,\n",
       " 'Algeria': 0,\n",
       " 'American Samoa': 0,\n",
       " 'Andorra': 0,\n",
       " 'Angola': 0,\n",
       " 'Anguilla': 0,\n",
       " 'Antarctica': 0,\n",
       " 'Antigua & Barbuda': 0,\n",
       " 'Armenia': 0,\n",
       " 'Aruba': 0,\n",
       " 'Azerbaijan': 0,\n",
       " 'Bahamas': 0,\n",
       " 'Bahrain': 0,\n",
       " 'Barbados': 0,\n",
       " 'Belize': 0,\n",
       " 'Benin': 0,\n",
       " 'Bermuda': 0,\n",
       " 'Bhutan': 0,\n",
       " 'Bolivia': 0,\n",
       " 'Bosnia & Herzegovina': 0,\n",
       " 'Botswana': 0,\n",
       " 'Bouvet Island': 0,\n",
       " 'British Indian Ocean Territory': 0,\n",
       " 'British Virgin Islands': 0,\n",
       " 'Estonia': 0,\n",
       " 'Ethiopia': 0,\n",
       " 'Mauritius': 0,\n",
       " 'Jamaica': 0,\n",
       " 'Jordan': 0,\n",
       " 'Kiribati': 0,\n",
       " 'Kosovo': 0,\n",
       " 'Kuwait': 0,\n",
       " 'Kyrgyzstan': 0,\n",
       " 'Laos': 0,\n",
       " 'Latvia': 0,\n",
       " 'Lebanon': 0,\n",
       " 'Lesotho': 0,\n",
       " 'Liberia': 0,\n",
       " 'Albania': 0,\n",
       " 'Liechtenstein': 0,\n",
       " 'Lithuania': 0,\n",
       " 'Luxembourg': 0,\n",
       " 'Macao': 0,\n",
       " 'Madagascar': 0,\n",
       " 'Malawi': 0,\n",
       " 'Maldives': 0,\n",
       " 'Mali': 0,\n",
       " 'Malta': 0,\n",
       " 'Marshall Islands': 0,\n",
       " 'Martinique': 0,\n",
       " 'Mauritania': 0,\n",
       " 'Jersey': 0,\n",
       " 'Isle of Man': 0,\n",
       " 'Falkland Islands (Islas Malvinas)': 0,\n",
       " 'Iraq': 0,\n",
       " 'Faroe Islands': 0,\n",
       " 'Fiji': 0,\n",
       " 'French Guiana': 0,\n",
       " 'French Polynesia': 0,\n",
       " 'French Southern Territories': 0,\n",
       " 'Gabon': 0,\n",
       " 'Gambia': 0,\n",
       " 'Georgia': 0,\n",
       " 'Ghana': 0,\n",
       " 'Gibraltar': 0,\n",
       " 'Greenland': 0,\n",
       " 'Grenada': 0,\n",
       " 'Guadeloupe': 0,\n",
       " 'Guam': 0,\n",
       " 'Guatemala': 0,\n",
       " 'Guernsey': 0,\n",
       " 'Guinea': 0,\n",
       " 'Guinea-Bissau': 0,\n",
       " 'Guyana': 0,\n",
       " 'Haiti': 0,\n",
       " 'Heard & McDonald Islands': 0,\n",
       " 'Honduras': 0,\n",
       " 'Iceland': 0,\n",
       " 'Åland Islands': 0}"
      ]
     },
     "execution_count": 72,
     "metadata": {},
     "output_type": "execute_result"
    }
   ],
   "source": [
    "# Ejemplo\n",
    "query = 'Python'\n",
    "tendencias = get_trends(query)\n",
    "tendencias"
   ]
  },
  {
   "cell_type": "code",
   "execution_count": 105,
   "metadata": {},
   "outputs": [
    {
     "data": {
      "text/plain": [
       "'04-10-21'"
      ]
     },
     "execution_count": 105,
     "metadata": {},
     "output_type": "execute_result"
    }
   ],
   "source": [
    "from datetime import datetime\n",
    "\n",
    "fecha = datetime.now().strftime('%d-%m-%y')\n",
    "fecha"
   ]
  },
  {
   "cell_type": "code",
   "execution_count": 107,
   "metadata": {
    "id": "9gN__Bbj28k1"
   },
   "outputs": [
    {
     "name": "stdout",
     "output_type": "stream",
     "text": [
      "Creando 04-10-21/Python.txt\n",
      "Creando 04-10-21/IA.txt\n",
      "Creando 04-10-21/Meditación.txt\n",
      "Creando 04-10-21/Jazz Rock.txt\n",
      "Creando 04-10-21/Sustentabilidad.txt\n",
      "Creando 04-10-21/Neurociencias.txt\n"
     ]
    }
   ],
   "source": [
    "for t in temas:\n",
    "    if not os.path.exists(fecha):\n",
    "        os.makedirs(fecha)\n",
    "\n",
    "    tendencias = get_trends(t)\n",
    "    ruta = fecha + '/' + f\"{t}.txt\"\n",
    "\n",
    "    print(f'Creando {ruta}')\n",
    "    with open(ruta, 'w') as out:\n",
    "        out.write(str(tendencias))"
   ]
  }
 ],
 "metadata": {
  "colab": {
   "collapsed_sections": [],
   "name": "Automatización.ipynb",
   "provenance": []
  },
  "kernelspec": {
   "display_name": "Python 3",
   "language": "python",
   "name": "python3"
  },
  "language_info": {
   "codemirror_mode": {
    "name": "ipython",
    "version": 3
   },
   "file_extension": ".py",
   "mimetype": "text/x-python",
   "name": "python",
   "nbconvert_exporter": "python",
   "pygments_lexer": "ipython3",
   "version": "3.8.8"
  }
 },
 "nbformat": 4,
 "nbformat_minor": 4
}
